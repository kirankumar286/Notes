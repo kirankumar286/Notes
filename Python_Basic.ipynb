{
  "nbformat": 4,
  "nbformat_minor": 0,
  "metadata": {
    "colab": {
      "provenance": [],
      "authorship_tag": "ABX9TyPWiv/UTqxGLAi0z+GjSaB0",
      "include_colab_link": true
    },
    "kernelspec": {
      "name": "python3",
      "display_name": "Python 3"
    },
    "language_info": {
      "name": "python"
    }
  },
  "cells": [
    {
      "cell_type": "markdown",
      "metadata": {
        "id": "view-in-github",
        "colab_type": "text"
      },
      "source": [
        "<a href=\"https://colab.research.google.com/github/kirankumar286/Notes/blob/main/Python_Basic.ipynb\" target=\"_parent\"><img src=\"https://colab.research.google.com/assets/colab-badge.svg\" alt=\"Open In Colab\"/></a>"
      ]
    },
    {
      "cell_type": "code",
      "execution_count": 1,
      "metadata": {
        "colab": {
          "base_uri": "https://localhost:8080/"
        },
        "id": "VwADTDrOj3ga",
        "outputId": "ae99234e-330d-4d5c-e8d1-717f66176fe3"
      },
      "outputs": [
        {
          "output_type": "stream",
          "name": "stdout",
          "text": [
            "Hello, World!\n"
          ]
        }
      ],
      "source": [
        "print(\"Hello, World!\")"
      ]
    },
    {
      "cell_type": "code",
      "source": [
        "name = \"Kk\"\n",
        "print(\"Hello \" + name)\n",
        "#Hello Kk"
      ],
      "metadata": {
        "colab": {
          "base_uri": "https://localhost:8080/"
        },
        "id": "SyyL1sIDqCcL",
        "outputId": "d295830d-d098-4925-822e-9b6a81295dd5"
      },
      "execution_count": 3,
      "outputs": [
        {
          "output_type": "stream",
          "name": "stdout",
          "text": [
            "Hello Kk\n"
          ]
        }
      ]
    },
    {
      "cell_type": "markdown",
      "source": [
        "Arithmetic operators\n",
        "Python can calculate numbers using common mathematical operators, along with some special operators, too:  \n",
        "\n",
        "## x + y = Addition + operator returns the sum of x plus y\n",
        "## x - y = Subtraction - operator returns the difference of x minus y\n",
        "## x * y = Multiplication * operator returns the product of x times y\n",
        "## x / y = Division / operator returns the quotient of x divided by y\n",
        "## x**y = Exponent ** operator returns the result of raising x to the power of y\n",
        "## x**2 = Square expression returns x squared\n",
        "## x**3 = Cube expression returns x cubed\n",
        "## x**(1/2) = Square root (½) or (0.5) fractional exponent operator returns the square root of x\n",
        "## x // y = Floor division operator returns the integer part of the integer division of x by y\n",
        "## x % y = Modulo operator returns the remainder part of the integer division of x by y"
      ],
      "metadata": {
        "id": "yiBdJyclqiQu"
      }
    },
    {
      "cell_type": "markdown",
      "source": [
        "#Order of operations\n",
        "##The order of operations are to be calculated from left to right in the following order:\n",
        "\n",
        "Parentheses ( ), { }, [ ]\n",
        "\n",
        "Exponents xy   (x**y)\n",
        "\n",
        "Multiplication * and Division /  \n",
        "\n",
        "Addition + and Subtraction -    \n",
        "\n",
        " You might find the PEMDAS mnemonic device to be helpful in remembering the order.   "
      ],
      "metadata": {
        "id": "jOJbRIOtrO4M"
      }
    },
    {
      "cell_type": "code",
      "source": [
        "Num1 = 10\n",
        "num2 = 20\n",
        "sum = Num1+num2\n",
        "print(\"The sum of {0} and {1} is {2}\".format(Num1, num2, sum))\n"
      ],
      "metadata": {
        "colab": {
          "base_uri": "https://localhost:8080/"
        },
        "id": "kXHTHwB4rNYM",
        "outputId": "2579cc2c-1da6-44ee-e8dd-03cdb79e2632"
      },
      "execution_count": 5,
      "outputs": [
        {
          "output_type": "stream",
          "name": "stdout",
          "text": [
            "The sum of 10 and 20 is 30\n"
          ]
        }
      ]
    },
    {
      "cell_type": "code",
      "source": [
        "Num1 = 10\n",
        "num2 = 20\n",
        "sum = Num1+num2\n",
        "print(\"Sum is : \" ,sum)"
      ],
      "metadata": {
        "colab": {
          "base_uri": "https://localhost:8080/"
        },
        "id": "V5ldeflusRHA",
        "outputId": "4f2ee964-4d87-4f53-91e6-006388622305"
      },
      "execution_count": 9,
      "outputs": [
        {
          "output_type": "stream",
          "name": "stdout",
          "text": [
            "Sum is :  30\n"
          ]
        }
      ]
    },
    {
      "cell_type": "code",
      "source": [
        "captain: str = \"Picard\"\n",
        "age: int = 34\n",
        "a = 3                  #a is an integer\n",
        "b = \"Hello world\"      #a is now a string"
      ],
      "metadata": {
        "id": "7GnhliH6sc2j"
      },
      "execution_count": 6,
      "outputs": []
    },
    {
      "cell_type": "code",
      "source": [
        "print(captain + str( age) + str(a) + b)\n",
        "print(captain +\" \"+ str( age) +\" \"+ str(a) +\" \"+ b)"
      ],
      "metadata": {
        "colab": {
          "base_uri": "https://localhost:8080/"
        },
        "id": "8l0JX173LNMK",
        "outputId": "26fb58a1-fc34-4d19-ee2d-0e56eb47647b"
      },
      "execution_count": 11,
      "outputs": [
        {
          "output_type": "stream",
          "name": "stdout",
          "text": [
            "Picard343Hello world\n",
            "Picard 34 3 Hello world\n"
          ]
        }
      ]
    },
    {
      "cell_type": "code",
      "source": [
        "print(captain,str( age),str(a), b)"
      ],
      "metadata": {
        "colab": {
          "base_uri": "https://localhost:8080/"
        },
        "id": "QZcNIhDsLOjr",
        "outputId": "3cfc8a2c-6fe6-4b27-aaeb-28acf272af6c"
      },
      "execution_count": 12,
      "outputs": [
        {
          "output_type": "stream",
          "name": "stdout",
          "text": [
            "Picard 34 3 Hello world\n"
          ]
        }
      ]
    },
    {
      "cell_type": "code",
      "source": [
        "# The following 5 lines assign strings to a list of variables.\n",
        "salutation = \"Dr.\"\n",
        "first_name = \"Prisha\"\n",
        "middle_name = \"Jai\"\n",
        "last_name = \"Agarwal\"\n",
        "suffix = \"Ph.D.\"\n",
        "\n",
        "print(salutation + \" \" + first_name + \" \" + middle_name + \" \" + last_name + \", \" + suffix)\n",
        "# The comma as a string \", \" adds the conventional use of a comma plus a\n",
        "# space to separate the last name from the suffix.\n",
        "\n",
        "# Alternatively, you could use commas in place of the + connector:\n",
        "print(salutation, first_name, middle_name, last_name,\",\", suffix)\n",
        "# However, you will find that this produces a space before a comma within a string."
      ],
      "metadata": {
        "colab": {
          "base_uri": "https://localhost:8080/"
        },
        "id": "b0f78b2pOirp",
        "outputId": "794c4cf1-23dd-434f-8cd0-c5c9ebc5568a"
      },
      "execution_count": 13,
      "outputs": [
        {
          "output_type": "stream",
          "name": "stdout",
          "text": [
            "Dr. Prisha Jai Agarwal, Ph.D.\n",
            "Dr. Prisha Jai Agarwal , Ph.D.\n"
          ]
        }
      ]
    },
    {
      "cell_type": "code",
      "source": [
        "# The following lines assign the variable to the left of the =\n",
        "# assignment operator with the values and arithmetic expressions\n",
        "# on the right side of the = assignment operator.\n",
        "hotel_room = 100\n",
        "tax = hotel_room * 0.08\n",
        "total = hotel_room + tax\n",
        "room_guests = 4\n",
        "share_per_person = total/room_guests\n",
        "\n",
        "\n",
        "# This line outputs the result of the final calculation stored\n",
        "# in the variable \"share_per_person\"\n",
        "print(\"Each person needs to pay: \" + str(share_per_person)) # change a data type"
      ],
      "metadata": {
        "colab": {
          "base_uri": "https://localhost:8080/"
        },
        "id": "ER_4SZeQOjSK",
        "outputId": "23a1946e-7de8-4085-e07f-9d9690097650"
      },
      "execution_count": 14,
      "outputs": [
        {
          "output_type": "stream",
          "name": "stdout",
          "text": [
            "Each person needs to pay: 27.0\n"
          ]
        }
      ]
    },
    {
      "cell_type": "code",
      "source": [
        "import typing\n",
        "# Define a variable of type str\n",
        "z: str = \"Hello, world!\"\n",
        "# Define a variable of type int\n",
        "x: int = 10\n",
        "# Define a variable of type float\n",
        "y: float = 1.23\n",
        "# Define a variable of type list\n",
        "list_of_numbers: typing.List[int] = [1, 2, 3]\n",
        "# Define a variable of type tuple\n",
        "tuple_of_numbers: typing.Tuple[int, int, int] = (1, 2, 3)\n",
        "# Define a variable of type dict\n",
        "dictionary: typing.Dict[str, int] = {\"key1\": 1, \"key2\": 2}\n",
        "# Define a variable of type set\n",
        "set_of_numbers: typing.Set[int] = {1, 2, 3}"
      ],
      "metadata": {
        "id": "aw217SzkOmIF"
      },
      "execution_count": 15,
      "outputs": []
    },
    {
      "cell_type": "code",
      "source": [
        "print(z,x,y,list_of_numbers,tuple_of_numbers,dictionary,set_of_numbers)"
      ],
      "metadata": {
        "colab": {
          "base_uri": "https://localhost:8080/"
        },
        "id": "W1vsu2dIOn8F",
        "outputId": "13cbbf05-5180-404d-d695-56a11199286a"
      },
      "execution_count": 16,
      "outputs": [
        {
          "output_type": "stream",
          "name": "stdout",
          "text": [
            "Hello, world! 10 1.23 [1, 2, 3] (1, 2, 3) {'key1': 1, 'key2': 2} {1, 2, 3}\n"
          ]
        }
      ]
    },
    {
      "cell_type": "code",
      "source": [],
      "metadata": {
        "id": "nNrY9uBSOy5s"
      },
      "execution_count": null,
      "outputs": []
    }
  ]
}