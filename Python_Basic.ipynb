{
  "nbformat": 4,
  "nbformat_minor": 0,
  "metadata": {
    "colab": {
      "provenance": [],
      "authorship_tag": "ABX9TyPYTaqErHuvXnskeVlwEIOv",
      "include_colab_link": true
    },
    "kernelspec": {
      "name": "python3",
      "display_name": "Python 3"
    },
    "language_info": {
      "name": "python"
    }
  },
  "cells": [
    {
      "cell_type": "markdown",
      "metadata": {
        "id": "view-in-github",
        "colab_type": "text"
      },
      "source": [
        "<a href=\"https://colab.research.google.com/github/kirankumar286/Notes/blob/main/Python_Basic.ipynb\" target=\"_parent\"><img src=\"https://colab.research.google.com/assets/colab-badge.svg\" alt=\"Open In Colab\"/></a>"
      ]
    },
    {
      "cell_type": "code",
      "execution_count": null,
      "metadata": {
        "colab": {
          "base_uri": "https://localhost:8080/"
        },
        "id": "VwADTDrOj3ga",
        "outputId": "ae99234e-330d-4d5c-e8d1-717f66176fe3"
      },
      "outputs": [
        {
          "output_type": "stream",
          "name": "stdout",
          "text": [
            "Hello, World!\n"
          ]
        }
      ],
      "source": [
        "print(\"Hello, World!\")"
      ]
    },
    {
      "cell_type": "code",
      "source": [
        "name = \"Kk\"\n",
        "print(\"Hello \" + name)\n",
        "#Hello Kk"
      ],
      "metadata": {
        "colab": {
          "base_uri": "https://localhost:8080/"
        },
        "id": "SyyL1sIDqCcL",
        "outputId": "d295830d-d098-4925-822e-9b6a81295dd5"
      },
      "execution_count": null,
      "outputs": [
        {
          "output_type": "stream",
          "name": "stdout",
          "text": [
            "Hello Kk\n"
          ]
        }
      ]
    },
    {
      "cell_type": "markdown",
      "source": [
        "Arithmetic operators\n",
        "Python can calculate numbers using common mathematical operators, along with some special operators, too:  \n",
        "\n",
        "## x + y = Addition + operator returns the sum of x plus y\n",
        "## x - y = Subtraction - operator returns the difference of x minus y\n",
        "## x * y = Multiplication * operator returns the product of x times y\n",
        "## x / y = Division / operator returns the quotient of x divided by y\n",
        "## x**y = Exponent ** operator returns the result of raising x to the power of y\n",
        "## x**2 = Square expression returns x squared\n",
        "## x**3 = Cube expression returns x cubed\n",
        "## x**(1/2) = Square root (½) or (0.5) fractional exponent operator returns the square root of x\n",
        "## x // y = Floor division operator returns the integer part of the integer division of x by y\n",
        "## x % y = Modulo operator returns the remainder part of the integer division of x by y"
      ],
      "metadata": {
        "id": "yiBdJyclqiQu"
      }
    },
    {
      "cell_type": "markdown",
      "source": [
        "#Order of operations\n",
        "##The order of operations are to be calculated from left to right in the following order:\n",
        "\n",
        "Parentheses ( ), { }, [ ]\n",
        "\n",
        "Exponents xy   (x**y)\n",
        "\n",
        "Multiplication * and Division /  \n",
        "\n",
        "Addition + and Subtraction -    \n",
        "\n",
        " You might find the PEMDAS mnemonic device to be helpful in remembering the order.   "
      ],
      "metadata": {
        "id": "jOJbRIOtrO4M"
      }
    },
    {
      "cell_type": "code",
      "source": [
        "Num1 = 10\n",
        "num2 = 20\n",
        "sum = Num1+num2\n",
        "print(\"The sum of {0} and {1} is {2}\".format(Num1, num2, sum))\n"
      ],
      "metadata": {
        "colab": {
          "base_uri": "https://localhost:8080/"
        },
        "id": "kXHTHwB4rNYM",
        "outputId": "2579cc2c-1da6-44ee-e8dd-03cdb79e2632"
      },
      "execution_count": null,
      "outputs": [
        {
          "output_type": "stream",
          "name": "stdout",
          "text": [
            "The sum of 10 and 20 is 30\n"
          ]
        }
      ]
    },
    {
      "cell_type": "code",
      "source": [
        "Num1 = 10\n",
        "num2 = 20\n",
        "sum = Num1+num2\n",
        "print(\"Sum is : \" ,sum)"
      ],
      "metadata": {
        "colab": {
          "base_uri": "https://localhost:8080/"
        },
        "id": "V5ldeflusRHA",
        "outputId": "4f2ee964-4d87-4f53-91e6-006388622305"
      },
      "execution_count": null,
      "outputs": [
        {
          "output_type": "stream",
          "name": "stdout",
          "text": [
            "Sum is :  30\n"
          ]
        }
      ]
    },
    {
      "cell_type": "code",
      "source": [
        "captain: str = \"Picard\"\n",
        "age: int = 34\n",
        "a = 3                  #a is an integer\n",
        "b = \"Hello world\"      #a is now a string"
      ],
      "metadata": {
        "id": "7GnhliH6sc2j"
      },
      "execution_count": null,
      "outputs": []
    },
    {
      "cell_type": "code",
      "source": [
        "print(captain + str( age) + str(a) + b)\n",
        "print(captain +\" \"+ str( age) +\" \"+ str(a) +\" \"+ b)"
      ],
      "metadata": {
        "colab": {
          "base_uri": "https://localhost:8080/"
        },
        "id": "8l0JX173LNMK",
        "outputId": "26fb58a1-fc34-4d19-ee2d-0e56eb47647b"
      },
      "execution_count": null,
      "outputs": [
        {
          "output_type": "stream",
          "name": "stdout",
          "text": [
            "Picard343Hello world\n",
            "Picard 34 3 Hello world\n"
          ]
        }
      ]
    },
    {
      "cell_type": "code",
      "source": [
        "print(captain,str( age),str(a), b)"
      ],
      "metadata": {
        "colab": {
          "base_uri": "https://localhost:8080/"
        },
        "id": "QZcNIhDsLOjr",
        "outputId": "3cfc8a2c-6fe6-4b27-aaeb-28acf272af6c"
      },
      "execution_count": null,
      "outputs": [
        {
          "output_type": "stream",
          "name": "stdout",
          "text": [
            "Picard 34 3 Hello world\n"
          ]
        }
      ]
    },
    {
      "cell_type": "code",
      "source": [
        "# The following 5 lines assign strings to a list of variables.\n",
        "salutation = \"Dr.\"\n",
        "first_name = \"Prisha\"\n",
        "middle_name = \"Jai\"\n",
        "last_name = \"Agarwal\"\n",
        "suffix = \"Ph.D.\"\n",
        "\n",
        "print(salutation + \" \" + first_name + \" \" + middle_name + \" \" + last_name + \", \" + suffix)\n",
        "# The comma as a string \", \" adds the conventional use of a comma plus a\n",
        "# space to separate the last name from the suffix.\n",
        "\n",
        "# Alternatively, you could use commas in place of the + connector:\n",
        "print(salutation, first_name, middle_name, last_name,\",\", suffix)\n",
        "# However, you will find that this produces a space before a comma within a string."
      ],
      "metadata": {
        "colab": {
          "base_uri": "https://localhost:8080/"
        },
        "id": "b0f78b2pOirp",
        "outputId": "794c4cf1-23dd-434f-8cd0-c5c9ebc5568a"
      },
      "execution_count": null,
      "outputs": [
        {
          "output_type": "stream",
          "name": "stdout",
          "text": [
            "Dr. Prisha Jai Agarwal, Ph.D.\n",
            "Dr. Prisha Jai Agarwal , Ph.D.\n"
          ]
        }
      ]
    },
    {
      "cell_type": "code",
      "source": [
        "# The following lines assign the variable to the left of the =\n",
        "# assignment operator with the values and arithmetic expressions\n",
        "# on the right side of the = assignment operator.\n",
        "hotel_room = 100\n",
        "tax = hotel_room * 0.08\n",
        "total = hotel_room + tax\n",
        "room_guests = 4\n",
        "share_per_person = total/room_guests\n",
        "\n",
        "\n",
        "# This line outputs the result of the final calculation stored\n",
        "# in the variable \"share_per_person\"\n",
        "print(\"Each person needs to pay: \" + str(share_per_person)) # change a data type"
      ],
      "metadata": {
        "colab": {
          "base_uri": "https://localhost:8080/"
        },
        "id": "ER_4SZeQOjSK",
        "outputId": "23a1946e-7de8-4085-e07f-9d9690097650"
      },
      "execution_count": null,
      "outputs": [
        {
          "output_type": "stream",
          "name": "stdout",
          "text": [
            "Each person needs to pay: 27.0\n"
          ]
        }
      ]
    },
    {
      "cell_type": "code",
      "source": [
        "import typing\n",
        "# Define a variable of type str\n",
        "z: str = \"Hello, world!\"\n",
        "# Define a variable of type int\n",
        "x: int = 10\n",
        "# Define a variable of type float\n",
        "y: float = 1.23\n",
        "# Define a variable of type list\n",
        "list_of_numbers: typing.List[int] = [2, 1, 3]\n",
        "# Define a variable of type tuple\n",
        "tuple_of_numbers: typing.Tuple[int, int, int] = (3, 2, 1)\n",
        "# Define a variable of type dict\n",
        "dictionary: typing.Dict[str, int] = {\"key1\": 1, \"key2\": 2}\n",
        "# Define a variable of type set\n",
        "set_of_numbers: typing.Set[int] = {4, 2, 1}"
      ],
      "metadata": {
        "id": "aw217SzkOmIF"
      },
      "execution_count": 7,
      "outputs": []
    },
    {
      "cell_type": "code",
      "source": [
        "print(z,x,y,\n",
        "      list_of_numbers,tuple_of_numbers,dictionary,set_of_numbers)\n",
        "\n",
        "\n",
        "print(sorted(list_of_numbers))\n",
        "print(sorted(tuple_of_numbers))\n",
        "print(sorted(dictionary))\n",
        "print(sorted(set_of_numbers))"
      ],
      "metadata": {
        "colab": {
          "base_uri": "https://localhost:8080/"
        },
        "id": "W1vsu2dIOn8F",
        "outputId": "0e51ff8a-afcf-4c1a-85e0-65c3f0e77eca"
      },
      "execution_count": 8,
      "outputs": [
        {
          "output_type": "stream",
          "name": "stdout",
          "text": [
            "Hello, world! 10 1.23 [2, 1, 3] (3, 2, 1) {'key1': 1, 'key2': 2} {1, 2, 4}\n",
            "[1, 2, 3]\n",
            "[1, 2, 3]\n",
            "['key1', 'key2']\n",
            "[1, 2, 4]\n"
          ]
        }
      ]
    },
    {
      "cell_type": "code",
      "source": [
        "def greeting(name):\n",
        "  print(\"Hello!! \", name)\n",
        "\n",
        "a : str = \"Kiran\"\n",
        "b : str = \"Kumar\"\n",
        "greeting(a)\n",
        "greeting(b)"
      ],
      "metadata": {
        "colab": {
          "base_uri": "https://localhost:8080/"
        },
        "id": "nNrY9uBSOy5s",
        "outputId": "3906247b-bca8-456e-c010-d4ba154aea75"
      },
      "execution_count": null,
      "outputs": [
        {
          "output_type": "stream",
          "name": "stdout",
          "text": [
            "Hello!!  Kiran\n",
            "Hello!!  Kumar\n"
          ]
        }
      ]
    },
    {
      "cell_type": "code",
      "source": [
        "def greeting(name, dept):\n",
        "  print(\"Hello!! \", name)\n",
        "  print(\"Your department is \" + dept + \"\\n\")\n",
        "\n",
        "\n",
        "greeting(\"Kiran\",\"CSE\")\n",
        "greeting(\"Kumar\", \"AI\")"
      ],
      "metadata": {
        "colab": {
          "base_uri": "https://localhost:8080/"
        },
        "id": "ZnfE_K49QyL5",
        "outputId": "72029706-d2ac-460c-845b-a8e7e28935ed"
      },
      "execution_count": null,
      "outputs": [
        {
          "output_type": "stream",
          "name": "stdout",
          "text": [
            "Hello!!  Kiran\n",
            "Your department is CSE\n",
            "\n",
            "Hello!!  Kumar\n",
            "Your department is AI\n",
            "\n"
          ]
        }
      ]
    },
    {
      "cell_type": "code",
      "source": [
        "time_list = [12, 2, 32, 19, 57, 22, 14]\n",
        "print(sorted(time_list))\n",
        "print(time_list)"
      ],
      "metadata": {
        "id": "6b688VcXRJNx",
        "colab": {
          "base_uri": "https://localhost:8080/"
        },
        "outputId": "4aed9ba1-326d-44eb-fc11-a27633fa4131"
      },
      "execution_count": 5,
      "outputs": [
        {
          "output_type": "stream",
          "name": "stdout",
          "text": [
            "[2, 12, 14, 19, 22, 32, 57]\n",
            "[12, 2, 32, 19, 57, 22, 14]\n"
          ]
        }
      ]
    },
    {
      "cell_type": "code",
      "source": [
        "time_list = [12, 2, 32, 19, 57, 22, 14]\n",
        "max_time = max(time_list)\n",
        "min_time = min(time_list)\n",
        "print(max_time)\n",
        "print(min_time)\n",
        "\n",
        "print(min(time_list))\n",
        "print(max(time_list))"
      ],
      "metadata": {
        "colab": {
          "base_uri": "https://localhost:8080/"
        },
        "id": "Hg-XwXn3q_zS",
        "outputId": "20a1e057-7d20-4487-fdc6-a0f856af0e6a"
      },
      "execution_count": 10,
      "outputs": [
        {
          "output_type": "stream",
          "name": "stdout",
          "text": [
            "57\n",
            "2\n",
            "2\n",
            "57\n"
          ]
        }
      ]
    },
    {
      "cell_type": "code",
      "source": [
        "print(type(10/2))\n",
        "print(type(10//2))\n",
        "print(type(10%2))\n",
        "print(10/3)\n",
        "print(10//3)\n",
        "print(10%3)"
      ],
      "metadata": {
        "colab": {
          "base_uri": "https://localhost:8080/"
        },
        "id": "tbz6ytKsrnEW",
        "outputId": "a3551581-2780-43e4-c065-f4afc6f04acf"
      },
      "execution_count": 13,
      "outputs": [
        {
          "output_type": "stream",
          "name": "stdout",
          "text": [
            "<class 'float'>\n",
            "<class 'int'>\n",
            "<class 'int'>\n",
            "3.3333333333333335\n",
            "3\n",
            "1\n"
          ]
        }
      ]
    },
    {
      "cell_type": "code",
      "source": [
        "def greeting(name):\n",
        "    print(\"Welcome, \" + name)\n",
        "result = greeting(\"Christine\")\n",
        "print(result)"
      ],
      "metadata": {
        "colab": {
          "base_uri": "https://localhost:8080/"
        },
        "id": "CqP-uzPbtnKQ",
        "outputId": "ab21f781-8983-4689-bcda-515a2026f0ff"
      },
      "execution_count": 18,
      "outputs": [
        {
          "output_type": "stream",
          "name": "stdout",
          "text": [
            "Welcome, Christine\n",
            "None\n"
          ]
        }
      ]
    },
    {
      "cell_type": "code",
      "source": [
        "def greeting(name):\n",
        "    print(\"Welcome, \" , name)\n",
        "result = greeting(\"Christine\")\n",
        "print(result)"
      ],
      "metadata": {
        "colab": {
          "base_uri": "https://localhost:8080/"
        },
        "id": "4U3GiUN-uL-E",
        "outputId": "1cdb3f21-35b8-4fe9-e32e-f6c96f793496"
      },
      "execution_count": 15,
      "outputs": [
        {
          "output_type": "stream",
          "name": "stdout",
          "text": [
            "Welcome,  Christine\n",
            "None\n"
          ]
        }
      ]
    },
    {
      "cell_type": "code",
      "source": [
        "def area_triangle(base, height):\n",
        "    return base*height/2\n",
        "area_a = area_triangle(5,4)\n",
        "area_b = area_triangle(7,3)\n",
        "sum = area_a + area_b\n",
        "print(\"The sum of both areas is: \" + str(sum))\n",
        "area_triangle(2,3)"
      ],
      "metadata": {
        "colab": {
          "base_uri": "https://localhost:8080/"
        },
        "id": "2_0O_PXX0l34",
        "outputId": "584e6705-edfa-49c3-8892-8ff480d81a11"
      },
      "execution_count": 30,
      "outputs": [
        {
          "output_type": "stream",
          "name": "stdout",
          "text": [
            "The sum of both areas is: 20.5\n"
          ]
        },
        {
          "output_type": "execute_result",
          "data": {
            "text/plain": [
              "3.0"
            ]
          },
          "metadata": {},
          "execution_count": 30
        }
      ]
    },
    {
      "cell_type": "code",
      "source": [
        "#doubt tcs\n",
        "lol = \"1,2,3,4,5\"\n",
        "print(lol)\n",
        "print(type(lol))\n",
        "lol2 = lol.split(\",\")\n",
        "print(lol.split(\",\"))\n",
        "print(type(lol.split(\",\")))\n",
        "lol3 = lol2[2]\n",
        "print(lol3)\n"
      ],
      "metadata": {
        "colab": {
          "base_uri": "https://localhost:8080/"
        },
        "id": "HkKZxYISuPuw",
        "outputId": "28823136-cc6d-4ed0-a7a5-f237e4a15ebd"
      },
      "execution_count": 29,
      "outputs": [
        {
          "output_type": "stream",
          "name": "stdout",
          "text": [
            "1,2,3,4,5\n",
            "<class 'str'>\n",
            "['1', '2', '3', '4', '5']\n",
            "<class 'list'>\n",
            "3\n"
          ]
        }
      ]
    },
    {
      "cell_type": "code",
      "source": [
        "def lucky_number(name):\n",
        "    number = len(name) * 9\n",
        "    print(\"Hello \" + name + \". Your lucky number is \" + str(number))\n",
        "\n",
        "lucky_number(\"Kay\")\n",
        "lucky_number(\"Cameron\")"
      ],
      "metadata": {
        "colab": {
          "base_uri": "https://localhost:8080/"
        },
        "id": "Pve4ZI6guuUX",
        "outputId": "3a14b50b-ce5a-4fc2-bcad-caf814f84c35"
      },
      "execution_count": 31,
      "outputs": [
        {
          "output_type": "stream",
          "name": "stdout",
          "text": [
            "Hello Kay. Your lucky number is 27\n",
            "Hello Cameron. Your lucky number is 63\n"
          ]
        }
      ]
    },
    {
      "cell_type": "code",
      "source": [
        "def lucky_number(name):\n",
        "    number = len(name) * 9\n",
        "    print(\"Hello\" ,name, \". Your lucky number is\", number)\n",
        "\n",
        "\n",
        "lucky_number(\"Kay\")\n",
        "lucky_number(\"Cameron\")"
      ],
      "metadata": {
        "colab": {
          "base_uri": "https://localhost:8080/"
        },
        "id": "XwWDTBQ92WAe",
        "outputId": "c74fdf10-3d25-410c-fd0b-5a864440c09e"
      },
      "execution_count": 34,
      "outputs": [
        {
          "output_type": "stream",
          "name": "stdout",
          "text": [
            "Hello Kay . Your lucky number is 27\n",
            "Hello Cameron . Your lucky number is 63\n"
          ]
        }
      ]
    },
    {
      "cell_type": "code",
      "source": [
        "def calculate(d):\n",
        "    q = 3.14\n",
        "    z = q * (d ** 2)\n",
        "    return z\n",
        "\n",
        "cal  = calculate(5)\n",
        "print(type(cal))\n",
        "\n",
        "#Output is 78.5"
      ],
      "metadata": {
        "colab": {
          "base_uri": "https://localhost:8080/"
        },
        "id": "FnicfJTz2dqw",
        "outputId": "891cdbda-0668-4716-87aa-b1dd4b060849"
      },
      "execution_count": 39,
      "outputs": [
        {
          "output_type": "stream",
          "name": "stdout",
          "text": [
            "<class 'float'>\n"
          ]
        }
      ]
    },
    {
      "cell_type": "code",
      "source": [],
      "metadata": {
        "id": "5fQ4xJD83og0"
      },
      "execution_count": 35,
      "outputs": []
    }
  ]
}